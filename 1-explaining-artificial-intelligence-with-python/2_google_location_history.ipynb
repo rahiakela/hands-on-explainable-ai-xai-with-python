{
  "nbformat": 4,
  "nbformat_minor": 0,
  "metadata": {
    "colab": {
      "name": "2-google-location-history.ipynb",
      "provenance": [],
      "authorship_tag": "ABX9TyND0foCSwfNXn4eZWFpUtbD",
      "include_colab_link": true
    },
    "kernelspec": {
      "name": "python3",
      "display_name": "Python 3"
    },
    "language_info": {
      "name": "python"
    }
  },
  "cells": [
    {
      "cell_type": "markdown",
      "metadata": {
        "id": "view-in-github",
        "colab_type": "text"
      },
      "source": [
        "<a href=\"https://colab.research.google.com/github/rahiakela/hands-on-explainable-ai-xai-with-python/blob/main/1-explaining-artificial-intelligence-with-python/2_google_location_history.ipynb\" target=\"_parent\"><img src=\"https://colab.research.google.com/assets/colab-badge.svg\" alt=\"Open In Colab\"/></a>"
      ]
    },
    {
      "cell_type": "markdown",
      "metadata": {
        "id": "3ch_cQKySII8"
      },
      "source": [
        "## Google Location History"
      ]
    },
    {
      "cell_type": "markdown",
      "metadata": {
        "id": "KCJSGoHWSI3T"
      },
      "source": [
        "We could take the raw data of the location history provided and run an AI black box process to provide a quick diagnosis. However, most users do not trust AI systems that explain nothing, especially when it comes to life and death situations. We must build a component that can explain how and why we used Google's Location History data.\n",
        "\n"
      ]
    },
    {
      "cell_type": "markdown",
      "metadata": {
        "id": "AR8fiJzNSh9w"
      },
      "source": [
        "## Setup"
      ]
    },
    {
      "cell_type": "code",
      "metadata": {
        "id": "GVZtsmIHSjae"
      },
      "source": [
        "%%shell\n",
        "\n",
        "apt install proj-bin libproj-dev libgeos-dev\n",
        "pip install https://github.com/matplotlib/basemap/archive/v1.1.0.tar.gz\n",
        "pip install -U git+https://github.com/matplotlib/basemap.git"
      ],
      "execution_count": null,
      "outputs": []
    },
    {
      "cell_type": "code",
      "metadata": {
        "id": "PXCEowmRStea"
      },
      "source": [
        "import pandas as pd\n",
        "import numpy as np\n",
        "from mpl_toolkits.basemap import Basemap\n",
        "import matplotlib.pyplot as plt\n",
        "from datetime import datetime as dt"
      ],
      "execution_count": 2,
      "outputs": []
    },
    {
      "cell_type": "code",
      "metadata": {
        "id": "VMZat0rkTFMK"
      },
      "source": [
        "!wget https://github.com/PacktPublishing/Hands-On-Explainable-AI-XAI-with-Python/raw/master/Chapter01/Location_History.zip"
      ],
      "execution_count": null,
      "outputs": []
    },
    {
      "cell_type": "code",
      "metadata": {
        "id": "I-ZUIkmCTRLV"
      },
      "source": [
        "import zipfile\n",
        "\n",
        "with zipfile.ZipFile('/content/Location_History.zip', 'r') as zip_ref:\n",
        "  zip_ref.extractall('/content/')"
      ],
      "execution_count": 4,
      "outputs": []
    },
    {
      "cell_type": "markdown",
      "metadata": {
        "id": "62Db6fG8UG6m"
      },
      "source": [
        "We now read the file and display the number of rows in the data file."
      ]
    },
    {
      "cell_type": "code",
      "metadata": {
        "colab": {
          "base_uri": "https://localhost:8080/"
        },
        "id": "l2L04bv0TmZ_",
        "outputId": "39aded18-7a52-4ce9-861c-760d991a3a51"
      },
      "source": [
        "df_gps = pd.read_json(\"/content/Location_History.json\")\n",
        "print(\"There are {:,} rows in the location history dataset\".format(len(df_gps)))"
      ],
      "execution_count": 5,
      "outputs": [
        {
          "output_type": "stream",
          "text": [
            "There are 123,143 rows in the location history dataset\n"
          ],
          "name": "stdout"
        }
      ]
    },
    {
      "cell_type": "markdown",
      "metadata": {
        "id": "BWo3L0RqUkaB"
      },
      "source": [
        "## Processing the data for XAI and basemap"
      ]
    },
    {
      "cell_type": "markdown",
      "metadata": {
        "id": "olRn-5qbUlFG"
      },
      "source": [
        "Before using the data to access and display the location history records, we must parse, convert, and drop some unnecessary columns.\n",
        "\n",
        "We will parse the latitudes, longitudes, and the timestamps stored inside the location columns:"
      ]
    },
    {
      "cell_type": "code",
      "metadata": {
        "id": "FRIO4aK0UcNZ"
      },
      "source": [
        "df_gps[\"lat\"] = df_gps[\"locations\"].map(lambda x: x[\"latitudeE7\"])\n",
        "df_gps[\"lon\"] = df_gps[\"locations\"].map(lambda x: x[\"longitudeE7\"])\n",
        "df_gps[\"timestamp_ms\"] = df_gps[\"locations\"].map(lambda x: x[\"timestampMs\"])"
      ],
      "execution_count": 7,
      "outputs": []
    },
    {
      "cell_type": "code",
      "metadata": {
        "colab": {
          "base_uri": "https://localhost:8080/",
          "height": 415
        },
        "id": "zBuf-yiJVItw",
        "outputId": "545b9f8a-b163-46d1-b839-067d56ea0173"
      },
      "source": [
        "df_gps"
      ],
      "execution_count": 8,
      "outputs": [
        {
          "output_type": "execute_result",
          "data": {
            "text/html": [
              "<div>\n",
              "<style scoped>\n",
              "    .dataframe tbody tr th:only-of-type {\n",
              "        vertical-align: middle;\n",
              "    }\n",
              "\n",
              "    .dataframe tbody tr th {\n",
              "        vertical-align: top;\n",
              "    }\n",
              "\n",
              "    .dataframe thead th {\n",
              "        text-align: right;\n",
              "    }\n",
              "</style>\n",
              "<table border=\"1\" class=\"dataframe\">\n",
              "  <thead>\n",
              "    <tr style=\"text-align: right;\">\n",
              "      <th></th>\n",
              "      <th>locations</th>\n",
              "      <th>lat</th>\n",
              "      <th>lon</th>\n",
              "      <th>timestamp_ms</th>\n",
              "    </tr>\n",
              "  </thead>\n",
              "  <tbody>\n",
              "    <tr>\n",
              "      <th>0</th>\n",
              "      <td>{'timestampMs': '1468992488806', 'latitudeE7':...</td>\n",
              "      <td>482688285</td>\n",
              "      <td>41040263</td>\n",
              "      <td>1468992488806</td>\n",
              "    </tr>\n",
              "    <tr>\n",
              "      <th>1</th>\n",
              "      <td>{'timestampMs': '1468992524778', 'latitudeE7':...</td>\n",
              "      <td>482688285</td>\n",
              "      <td>41040263</td>\n",
              "      <td>1468992524778</td>\n",
              "    </tr>\n",
              "    <tr>\n",
              "      <th>2</th>\n",
              "      <td>{'timestampMs': '1468992760000', 'latitudeE7':...</td>\n",
              "      <td>482922011</td>\n",
              "      <td>41480267</td>\n",
              "      <td>1468992760000</td>\n",
              "    </tr>\n",
              "    <tr>\n",
              "      <th>3</th>\n",
              "      <td>{'timestampMs': '1468992775000', 'latitudeE7':...</td>\n",
              "      <td>482906350</td>\n",
              "      <td>41523165</td>\n",
              "      <td>1468992775000</td>\n",
              "    </tr>\n",
              "    <tr>\n",
              "      <th>4</th>\n",
              "      <td>{'timestampMs': '1468992924000', 'latitudeE7':...</td>\n",
              "      <td>482960132</td>\n",
              "      <td>41664239</td>\n",
              "      <td>1468992924000</td>\n",
              "    </tr>\n",
              "    <tr>\n",
              "      <th>...</th>\n",
              "      <td>...</td>\n",
              "      <td>...</td>\n",
              "      <td>...</td>\n",
              "      <td>...</td>\n",
              "    </tr>\n",
              "    <tr>\n",
              "      <th>123138</th>\n",
              "      <td>{'timestampMs': '1553429840319', 'latitudeE7':...</td>\n",
              "      <td>506184756</td>\n",
              "      <td>30720526</td>\n",
              "      <td>1553429840319</td>\n",
              "    </tr>\n",
              "    <tr>\n",
              "      <th>123139</th>\n",
              "      <td>{'timestampMs': '1553430033166', 'latitudeE7':...</td>\n",
              "      <td>506187677</td>\n",
              "      <td>30719292</td>\n",
              "      <td>1553430033166</td>\n",
              "    </tr>\n",
              "    <tr>\n",
              "      <th>123140</th>\n",
              "      <td>{'timestampMs': '1553430209458', 'latitudeE7':...</td>\n",
              "      <td>506189316</td>\n",
              "      <td>30719503</td>\n",
              "      <td>1553430209458</td>\n",
              "    </tr>\n",
              "    <tr>\n",
              "      <th>123141</th>\n",
              "      <td>{'timestampMs': '1553514237945', 'latitudeE7':...</td>\n",
              "      <td>482745797</td>\n",
              "      <td>40919255</td>\n",
              "      <td>1553514237945</td>\n",
              "    </tr>\n",
              "    <tr>\n",
              "      <th>123142</th>\n",
              "      <td>{'timestampMs': '1553514360002', 'latitudeE7':...</td>\n",
              "      <td>482745797</td>\n",
              "      <td>40919255</td>\n",
              "      <td>1553514360002</td>\n",
              "    </tr>\n",
              "  </tbody>\n",
              "</table>\n",
              "<p>123143 rows × 4 columns</p>\n",
              "</div>"
            ],
            "text/plain": [
              "                                                locations  ...   timestamp_ms\n",
              "0       {'timestampMs': '1468992488806', 'latitudeE7':...  ...  1468992488806\n",
              "1       {'timestampMs': '1468992524778', 'latitudeE7':...  ...  1468992524778\n",
              "2       {'timestampMs': '1468992760000', 'latitudeE7':...  ...  1468992760000\n",
              "3       {'timestampMs': '1468992775000', 'latitudeE7':...  ...  1468992775000\n",
              "4       {'timestampMs': '1468992924000', 'latitudeE7':...  ...  1468992924000\n",
              "...                                                   ...  ...            ...\n",
              "123138  {'timestampMs': '1553429840319', 'latitudeE7':...  ...  1553429840319\n",
              "123139  {'timestampMs': '1553430033166', 'latitudeE7':...  ...  1553430033166\n",
              "123140  {'timestampMs': '1553430209458', 'latitudeE7':...  ...  1553430209458\n",
              "123141  {'timestampMs': '1553514237945', 'latitudeE7':...  ...  1553514237945\n",
              "123142  {'timestampMs': '1553514360002', 'latitudeE7':...  ...  1553514360002\n",
              "\n",
              "[123143 rows x 4 columns]"
            ]
          },
          "metadata": {
            "tags": []
          },
          "execution_count": 8
        }
      ]
    },
    {
      "cell_type": "markdown",
      "metadata": {
        "id": "goDzt0kKV8rW"
      },
      "source": [
        "As you can see, the data must be transformed before we can use it for basemap. It does not meet the standard of XAI or even a basemap input.\n",
        "\n",
        "We need decimalized degrees for the latitudes and longitudes. We also need to\n",
        "convert the timestamp to date-time."
      ]
    },
    {
      "cell_type": "code",
      "metadata": {
        "id": "BNF0av_9VwV6"
      },
      "source": [
        "df_gps[\"lat\"] = df_gps[\"lat\"] / 10. ** 7\n",
        "df_gps[\"lon\"] = df_gps[\"lon\"] / 10. ** 7\n",
        "\n",
        "df_gps[\"timestamp_ms\"] = df_gps[\"timestamp_ms\"].astype(float) / 1000\n",
        "\n",
        "df_gps[\"datetime\"] = df_gps[\"timestamp_ms\"].map(lambda x: dt.fromtimestamp(x).strftime(\"%Y-%m-%d %H:%M:%S\"))\n",
        "date_range = \"{}-{}\".format(df_gps[\"datetime\"].min()[:4], df_gps[\"datetime\"].max()[:4])"
      ],
      "execution_count": 9,
      "outputs": []
    },
    {
      "cell_type": "markdown",
      "metadata": {
        "id": "UHME1TLPXsWP"
      },
      "source": [
        "Before displaying some of the records in our location history, we will drop the columns we do not need anymore."
      ]
    },
    {
      "cell_type": "code",
      "metadata": {
        "colab": {
          "base_uri": "https://localhost:8080/",
          "height": 202
        },
        "id": "_O5vqaMEXmbt",
        "outputId": "02852c99-ae64-4c45-969f-6a38ec49d0ff"
      },
      "source": [
        "df_gps = df_gps.drop(labels=[\"locations\", \"timestamp_ms\"], axis=1, inplace=False)\n",
        "\n",
        "df_gps[1000:1005]"
      ],
      "execution_count": 10,
      "outputs": [
        {
          "output_type": "execute_result",
          "data": {
            "text/html": [
              "<div>\n",
              "<style scoped>\n",
              "    .dataframe tbody tr th:only-of-type {\n",
              "        vertical-align: middle;\n",
              "    }\n",
              "\n",
              "    .dataframe tbody tr th {\n",
              "        vertical-align: top;\n",
              "    }\n",
              "\n",
              "    .dataframe thead th {\n",
              "        text-align: right;\n",
              "    }\n",
              "</style>\n",
              "<table border=\"1\" class=\"dataframe\">\n",
              "  <thead>\n",
              "    <tr style=\"text-align: right;\">\n",
              "      <th></th>\n",
              "      <th>lat</th>\n",
              "      <th>lon</th>\n",
              "      <th>datetime</th>\n",
              "    </tr>\n",
              "  </thead>\n",
              "  <tbody>\n",
              "    <tr>\n",
              "      <th>1000</th>\n",
              "      <td>49.010427</td>\n",
              "      <td>2.567411</td>\n",
              "      <td>2016-07-29 21:16:01</td>\n",
              "    </tr>\n",
              "    <tr>\n",
              "      <th>1001</th>\n",
              "      <td>49.011505</td>\n",
              "      <td>2.567486</td>\n",
              "      <td>2016-07-29 21:16:31</td>\n",
              "    </tr>\n",
              "    <tr>\n",
              "      <th>1002</th>\n",
              "      <td>49.011341</td>\n",
              "      <td>2.566974</td>\n",
              "      <td>2016-07-29 21:16:47</td>\n",
              "    </tr>\n",
              "    <tr>\n",
              "      <th>1003</th>\n",
              "      <td>49.011596</td>\n",
              "      <td>2.568414</td>\n",
              "      <td>2016-07-29 21:17:03</td>\n",
              "    </tr>\n",
              "    <tr>\n",
              "      <th>1004</th>\n",
              "      <td>49.011756</td>\n",
              "      <td>2.570905</td>\n",
              "      <td>2016-07-29 21:17:19</td>\n",
              "    </tr>\n",
              "  </tbody>\n",
              "</table>\n",
              "</div>"
            ],
            "text/plain": [
              "            lat       lon             datetime\n",
              "1000  49.010427  2.567411  2016-07-29 21:16:01\n",
              "1001  49.011505  2.567486  2016-07-29 21:16:31\n",
              "1002  49.011341  2.566974  2016-07-29 21:16:47\n",
              "1003  49.011596  2.568414  2016-07-29 21:17:03\n",
              "1004  49.011756  2.570905  2016-07-29 21:17:19"
            ]
          },
          "metadata": {
            "tags": []
          },
          "execution_count": 10
        }
      ]
    },
    {
      "cell_type": "code",
      "metadata": {
        "id": "8vShL0jUYCDW"
      },
      "source": [
        ""
      ],
      "execution_count": null,
      "outputs": []
    }
  ]
}